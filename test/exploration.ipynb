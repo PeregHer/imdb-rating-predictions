{
 "cells": [
  {
   "cell_type": "code",
   "execution_count": 1,
   "metadata": {},
   "outputs": [],
   "source": [
    "import pandas as pd\n",
    "import seaborn as sns"
   ]
  },
  {
   "cell_type": "code",
   "execution_count": 2,
   "metadata": {},
   "outputs": [],
   "source": [
    "file_name = 'result_all'"
   ]
  },
  {
   "cell_type": "code",
   "execution_count": 3,
   "metadata": {},
   "outputs": [
    {
     "name": "stderr",
     "output_type": "stream",
     "text": [
      "/home/pereg/.cache/pypoetry/virtualenvs/imdb-SU7xxC1A-py3.9/lib/python3.9/site-packages/IPython/core/interactiveshell.py:3457: DtypeWarning: Columns (1,2,3,4) have mixed types.Specify dtype option on import or set low_memory=False.\n",
      "  exec(code_obj, self.user_global_ns, self.user_ns)\n"
     ]
    }
   ],
   "source": [
    "df = pd.read_csv(f'output/{file_name}.csv')"
   ]
  },
  {
   "cell_type": "code",
   "execution_count": 4,
   "metadata": {},
   "outputs": [
    {
     "data": {
      "text/html": [
       "<div>\n",
       "<style scoped>\n",
       "    .dataframe tbody tr th:only-of-type {\n",
       "        vertical-align: middle;\n",
       "    }\n",
       "\n",
       "    .dataframe tbody tr th {\n",
       "        vertical-align: top;\n",
       "    }\n",
       "\n",
       "    .dataframe thead th {\n",
       "        text-align: right;\n",
       "    }\n",
       "</style>\n",
       "<table border=\"1\" class=\"dataframe\">\n",
       "  <thead>\n",
       "    <tr style=\"text-align: right;\">\n",
       "      <th></th>\n",
       "      <th>title</th>\n",
       "      <th>year</th>\n",
       "      <th>rating</th>\n",
       "      <th>votes</th>\n",
       "      <th>duration</th>\n",
       "      <th>genres</th>\n",
       "      <th>certificate</th>\n",
       "      <th>synopsis</th>\n",
       "      <th>directors</th>\n",
       "      <th>actors</th>\n",
       "    </tr>\n",
       "  </thead>\n",
       "  <tbody>\n",
       "    <tr>\n",
       "      <th>count</th>\n",
       "      <td>1154535</td>\n",
       "      <td>953819.0</td>\n",
       "      <td>645873.0</td>\n",
       "      <td>645872.0</td>\n",
       "      <td>765518.0</td>\n",
       "      <td>1084276</td>\n",
       "      <td>265702</td>\n",
       "      <td>817093</td>\n",
       "      <td>974475</td>\n",
       "      <td>974475</td>\n",
       "    </tr>\n",
       "    <tr>\n",
       "      <th>unique</th>\n",
       "      <td>410255</td>\n",
       "      <td>243.0</td>\n",
       "      <td>182.0</td>\n",
       "      <td>28107.0</td>\n",
       "      <td>621.0</td>\n",
       "      <td>1787</td>\n",
       "      <td>46</td>\n",
       "      <td>295250</td>\n",
       "      <td>143188</td>\n",
       "      <td>381635</td>\n",
       "    </tr>\n",
       "    <tr>\n",
       "      <th>top</th>\n",
       "      <td>Broken</td>\n",
       "      <td>2018.0</td>\n",
       "      <td>6.2</td>\n",
       "      <td>9.0</td>\n",
       "      <td>90.0</td>\n",
       "      <td>Drama</td>\n",
       "      <td>Not Rated</td>\n",
       "      <td>Plot unknown.</td>\n",
       "      <td>William Beaudine</td>\n",
       "      <td>Nobuyo Ôyama,Noriko Ohara,Michiko Nomura,Kanet...</td>\n",
       "    </tr>\n",
       "    <tr>\n",
       "      <th>freq</th>\n",
       "      <td>108</td>\n",
       "      <td>27137.0</td>\n",
       "      <td>21588.0</td>\n",
       "      <td>11601.0</td>\n",
       "      <td>52346.0</td>\n",
       "      <td>221060</td>\n",
       "      <td>76453</td>\n",
       "      <td>1796</td>\n",
       "      <td>560</td>\n",
       "      <td>135</td>\n",
       "    </tr>\n",
       "  </tbody>\n",
       "</table>\n",
       "</div>"
      ],
      "text/plain": [
       "          title      year    rating     votes  duration   genres certificate  \\\n",
       "count   1154535  953819.0  645873.0  645872.0  765518.0  1084276      265702   \n",
       "unique   410255     243.0     182.0   28107.0     621.0     1787          46   \n",
       "top      Broken    2018.0       6.2       9.0      90.0    Drama   Not Rated   \n",
       "freq        108   27137.0   21588.0   11601.0   52346.0   221060       76453   \n",
       "\n",
       "             synopsis         directors  \\\n",
       "count          817093            974475   \n",
       "unique         295250            143188   \n",
       "top     Plot unknown.  William Beaudine   \n",
       "freq             1796               560   \n",
       "\n",
       "                                                   actors  \n",
       "count                                              974475  \n",
       "unique                                             381635  \n",
       "top     Nobuyo Ôyama,Noriko Ohara,Michiko Nomura,Kanet...  \n",
       "freq                                                  135  "
      ]
     },
     "execution_count": 4,
     "metadata": {},
     "output_type": "execute_result"
    }
   ],
   "source": [
    "df.describe()"
   ]
  },
  {
   "cell_type": "code",
   "execution_count": 5,
   "metadata": {},
   "outputs": [
    {
     "name": "stdout",
     "output_type": "stream",
     "text": [
      "<class 'pandas.core.frame.DataFrame'>\n",
      "RangeIndex: 1154535 entries, 0 to 1154534\n",
      "Data columns (total 10 columns):\n",
      " #   Column       Non-Null Count    Dtype \n",
      "---  ------       --------------    ----- \n",
      " 0   title        1154535 non-null  object\n",
      " 1   year         953819 non-null   object\n",
      " 2   rating       645873 non-null   object\n",
      " 3   votes        645872 non-null   object\n",
      " 4   duration     765518 non-null   object\n",
      " 5   genres       1084276 non-null  object\n",
      " 6   certificate  265702 non-null   object\n",
      " 7   synopsis     817093 non-null   object\n",
      " 8   directors    974475 non-null   object\n",
      " 9   actors       974475 non-null   object\n",
      "dtypes: object(10)\n",
      "memory usage: 88.1+ MB\n"
     ]
    }
   ],
   "source": [
    "df.info()"
   ]
  },
  {
   "cell_type": "code",
   "execution_count": 6,
   "metadata": {},
   "outputs": [],
   "source": [
    "df = pd.concat([df, df['actors'].str.split(',', expand=True)], axis=1)\n",
    "df.rename(columns={0: 'actor1', 1: 'actor2', 2: 'actor3', 3: 'actor4'}, inplace=True)\n",
    "\n",
    "df = pd.concat([df, df['directors'].str.split(',', expand=True)], axis=1)\n",
    "df.rename(columns={0: 'director1', 1: 'director2', 2: 'director3'}, inplace=True)\n",
    "\n",
    "df = pd.concat([df, df['genres'].str.split(',', expand=True)], axis=1)\n",
    "df.rename(columns={0: 'genre1', 1: 'genre2', 2: 'genre3'}, inplace=True)"
   ]
  },
  {
   "cell_type": "code",
   "execution_count": 7,
   "metadata": {},
   "outputs": [],
   "source": [
    "df.drop(['actors', 'directors', 'genres'], axis=1, inplace=True)\n",
    "for column in range(len(df.columns)):\n",
    "    try: df.drop(column, axis=1, inplace=True)\n",
    "    except: pass"
   ]
  },
  {
   "cell_type": "code",
   "execution_count": 8,
   "metadata": {},
   "outputs": [],
   "source": [
    "df.drop_duplicates(inplace=True)"
   ]
  },
  {
   "cell_type": "code",
   "execution_count": 14,
   "metadata": {},
   "outputs": [],
   "source": [
    "#Replace nan values from column votes with 0\n",
    "df['votes'] = df['votes'].fillna(0)"
   ]
  },
  {
   "cell_type": "code",
   "execution_count": 19,
   "metadata": {},
   "outputs": [],
   "source": [
    "df.dropna(inplace=True)"
   ]
  },
  {
   "cell_type": "code",
   "execution_count": 21,
   "metadata": {},
   "outputs": [
    {
     "name": "stdout",
     "output_type": "stream",
     "text": [
      "<class 'pandas.core.frame.DataFrame'>\n",
      "Int64Index: 544 entries, 25 to 386163\n",
      "Data columns (total 17 columns):\n",
      " #   Column       Non-Null Count  Dtype \n",
      "---  ------       --------------  ----- \n",
      " 0   title        544 non-null    object\n",
      " 1   year         544 non-null    object\n",
      " 2   rating       544 non-null    object\n",
      " 3   votes        544 non-null    object\n",
      " 4   duration     544 non-null    object\n",
      " 5   certificate  544 non-null    object\n",
      " 6   synopsis     544 non-null    object\n",
      " 7   actor1       544 non-null    object\n",
      " 8   actor2       544 non-null    object\n",
      " 9   actor3       544 non-null    object\n",
      " 10  actor4       544 non-null    object\n",
      " 11  director1    544 non-null    object\n",
      " 12  director2    544 non-null    object\n",
      " 13  director3    544 non-null    object\n",
      " 14  genre1       544 non-null    object\n",
      " 15  genre2       544 non-null    object\n",
      " 16  genre3       544 non-null    object\n",
      "dtypes: object(17)\n",
      "memory usage: 76.5+ KB\n"
     ]
    }
   ],
   "source": [
    "df.info()"
   ]
  },
  {
   "cell_type": "code",
   "execution_count": null,
   "metadata": {},
   "outputs": [],
   "source": [
    "# df.to_csv(f'output/{file_name}_transform.csv', index=False)"
   ]
  }
 ],
 "metadata": {
  "interpreter": {
   "hash": "e116df2f8c784b454efd66b392e835b837941f55545e56b8b3614d3730c15bd3"
  },
  "kernelspec": {
   "display_name": "Python 3.9.6 64-bit ('imdb-c-mmtxst-py3.9': poetry)",
   "language": "python",
   "name": "python3"
  },
  "language_info": {
   "codemirror_mode": {
    "name": "ipython",
    "version": 3
   },
   "file_extension": ".py",
   "mimetype": "text/x-python",
   "name": "python",
   "nbconvert_exporter": "python",
   "pygments_lexer": "ipython3",
   "version": "3.9.7"
  },
  "orig_nbformat": 4
 },
 "nbformat": 4,
 "nbformat_minor": 2
}
