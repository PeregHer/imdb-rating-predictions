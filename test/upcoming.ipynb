{
 "cells": [
  {
   "cell_type": "code",
   "execution_count": 1,
   "metadata": {},
   "outputs": [],
   "source": [
    "import pandas as pd"
   ]
  },
  {
   "cell_type": "code",
   "execution_count": 4,
   "metadata": {},
   "outputs": [],
   "source": [
    "df = pd.read_csv('../data/upcoming.csv')"
   ]
  },
  {
   "cell_type": "code",
   "execution_count": 6,
   "metadata": {},
   "outputs": [
    {
     "name": "stdout",
     "output_type": "stream",
     "text": [
      "<class 'pandas.core.frame.DataFrame'>\n",
      "RangeIndex: 202 entries, 0 to 201\n",
      "Data columns (total 9 columns):\n",
      " #   Column       Non-Null Count  Dtype  \n",
      "---  ------       --------------  -----  \n",
      " 0   title        202 non-null    object \n",
      " 1   year         197 non-null    float64\n",
      " 2   duration     81 non-null     float64\n",
      " 3   genres       196 non-null    object \n",
      " 4   certificate  12 non-null     object \n",
      " 5   synopsis     127 non-null    object \n",
      " 6   directors    168 non-null    object \n",
      " 7   actors       168 non-null    object \n",
      " 8   image        0 non-null      float64\n",
      "dtypes: float64(3), object(6)\n",
      "memory usage: 14.3+ KB\n"
     ]
    }
   ],
   "source": [
    "df.info()\n"
   ]
  }
 ],
 "metadata": {
  "interpreter": {
   "hash": "a1962b1390fc602f129cf4a1e2f06d8bb33751ab80d4cbbaae92bfd5e022a3e8"
  },
  "kernelspec": {
   "display_name": "Python 3.9.7 64-bit ('imdb-SU7xxC1A-py3.9': poetry)",
   "language": "python",
   "name": "python3"
  },
  "language_info": {
   "codemirror_mode": {
    "name": "ipython",
    "version": 3
   },
   "file_extension": ".py",
   "mimetype": "text/x-python",
   "name": "python",
   "nbconvert_exporter": "python",
   "pygments_lexer": "ipython3",
   "version": "3.9.7"
  },
  "orig_nbformat": 4
 },
 "nbformat": 4,
 "nbformat_minor": 2
}
