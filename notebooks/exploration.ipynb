{
 "cells": [
  {
   "cell_type": "code",
   "execution_count": 83,
   "metadata": {},
   "outputs": [],
   "source": [
    "import pandas as pd\n",
    "import seaborn as sns"
   ]
  },
  {
   "cell_type": "code",
   "execution_count": 84,
   "metadata": {},
   "outputs": [],
   "source": [
    "file_name = 'upcoming'"
   ]
  },
  {
   "cell_type": "code",
   "execution_count": 85,
   "metadata": {},
   "outputs": [],
   "source": [
    "df = pd.read_csv(f'../data/{file_name}.csv')"
   ]
  },
  {
   "cell_type": "code",
   "execution_count": 86,
   "metadata": {},
   "outputs": [
    {
     "data": {
      "text/html": [
       "<div>\n",
       "<style scoped>\n",
       "    .dataframe tbody tr th:only-of-type {\n",
       "        vertical-align: middle;\n",
       "    }\n",
       "\n",
       "    .dataframe tbody tr th {\n",
       "        vertical-align: top;\n",
       "    }\n",
       "\n",
       "    .dataframe thead th {\n",
       "        text-align: right;\n",
       "    }\n",
       "</style>\n",
       "<table border=\"1\" class=\"dataframe\">\n",
       "  <thead>\n",
       "    <tr style=\"text-align: right;\">\n",
       "      <th></th>\n",
       "      <th>rating</th>\n",
       "      <th>year</th>\n",
       "      <th>duration</th>\n",
       "      <th>votes</th>\n",
       "    </tr>\n",
       "  </thead>\n",
       "  <tbody>\n",
       "    <tr>\n",
       "      <th>count</th>\n",
       "      <td>0.0</td>\n",
       "      <td>849.0</td>\n",
       "      <td>333.000000</td>\n",
       "      <td>0.0</td>\n",
       "    </tr>\n",
       "    <tr>\n",
       "      <th>mean</th>\n",
       "      <td>NaN</td>\n",
       "      <td>2022.0</td>\n",
       "      <td>98.096096</td>\n",
       "      <td>NaN</td>\n",
       "    </tr>\n",
       "    <tr>\n",
       "      <th>std</th>\n",
       "      <td>NaN</td>\n",
       "      <td>0.0</td>\n",
       "      <td>22.436317</td>\n",
       "      <td>NaN</td>\n",
       "    </tr>\n",
       "    <tr>\n",
       "      <th>min</th>\n",
       "      <td>NaN</td>\n",
       "      <td>2022.0</td>\n",
       "      <td>18.000000</td>\n",
       "      <td>NaN</td>\n",
       "    </tr>\n",
       "    <tr>\n",
       "      <th>25%</th>\n",
       "      <td>NaN</td>\n",
       "      <td>2022.0</td>\n",
       "      <td>87.000000</td>\n",
       "      <td>NaN</td>\n",
       "    </tr>\n",
       "    <tr>\n",
       "      <th>50%</th>\n",
       "      <td>NaN</td>\n",
       "      <td>2022.0</td>\n",
       "      <td>95.000000</td>\n",
       "      <td>NaN</td>\n",
       "    </tr>\n",
       "    <tr>\n",
       "      <th>75%</th>\n",
       "      <td>NaN</td>\n",
       "      <td>2022.0</td>\n",
       "      <td>110.000000</td>\n",
       "      <td>NaN</td>\n",
       "    </tr>\n",
       "    <tr>\n",
       "      <th>max</th>\n",
       "      <td>NaN</td>\n",
       "      <td>2022.0</td>\n",
       "      <td>180.000000</td>\n",
       "      <td>NaN</td>\n",
       "    </tr>\n",
       "  </tbody>\n",
       "</table>\n",
       "</div>"
      ],
      "text/plain": [
       "       rating    year    duration  votes\n",
       "count     0.0   849.0  333.000000    0.0\n",
       "mean      NaN  2022.0   98.096096    NaN\n",
       "std       NaN     0.0   22.436317    NaN\n",
       "min       NaN  2022.0   18.000000    NaN\n",
       "25%       NaN  2022.0   87.000000    NaN\n",
       "50%       NaN  2022.0   95.000000    NaN\n",
       "75%       NaN  2022.0  110.000000    NaN\n",
       "max       NaN  2022.0  180.000000    NaN"
      ]
     },
     "execution_count": 86,
     "metadata": {},
     "output_type": "execute_result"
    }
   ],
   "source": [
    "df.describe()"
   ]
  },
  {
   "cell_type": "code",
   "execution_count": 87,
   "metadata": {},
   "outputs": [
    {
     "name": "stdout",
     "output_type": "stream",
     "text": [
      "<class 'pandas.core.frame.DataFrame'>\n",
      "RangeIndex: 849 entries, 0 to 848\n",
      "Data columns (total 11 columns):\n",
      " #   Column       Non-Null Count  Dtype  \n",
      "---  ------       --------------  -----  \n",
      " 0   title        849 non-null    object \n",
      " 1   rating       0 non-null      float64\n",
      " 2   year         849 non-null    int64  \n",
      " 3   duration     333 non-null    float64\n",
      " 4   votes        0 non-null      float64\n",
      " 5   certificate  54 non-null     object \n",
      " 6   image        849 non-null    object \n",
      " 7   synopsis     582 non-null    object \n",
      " 8   actors       778 non-null    object \n",
      " 9   directors    778 non-null    object \n",
      " 10  genres       806 non-null    object \n",
      "dtypes: float64(3), int64(1), object(7)\n",
      "memory usage: 73.1+ KB\n"
     ]
    }
   ],
   "source": [
    "df.info()"
   ]
  },
  {
   "cell_type": "code",
   "execution_count": 88,
   "metadata": {},
   "outputs": [],
   "source": [
    "df = pd.concat([df, df['actors'].str.split(',', expand=True)], axis=1)\n",
    "df.rename(columns={0: 'actor1', 1: 'actor2', 2: 'actor3', 3: 'actor4'}, inplace=True)\n",
    "\n",
    "df = pd.concat([df, df['directors'].str.split(',', expand=True)], axis=1)\n",
    "df.rename(columns={0: 'director1', 1: 'director2', 2: 'director3'}, inplace=True)\n",
    "\n",
    "df = pd.concat([df, df['genres'].str.split(',', expand=True)], axis=1)\n",
    "df.rename(columns={0: 'genre1', 1: 'genre2', 2: 'genre3'}, inplace=True)"
   ]
  },
  {
   "cell_type": "code",
   "execution_count": 89,
   "metadata": {},
   "outputs": [],
   "source": [
    "df.drop(['actors', 'directors', 'genres'], axis=1, inplace=True)\n",
    "for column in range(len(df.columns)):\n",
    "    try: df.drop(column, axis=1, inplace=True)\n",
    "    except: pass"
   ]
  },
  {
   "cell_type": "code",
   "execution_count": 90,
   "metadata": {},
   "outputs": [],
   "source": [
    "df.drop_duplicates(inplace=True)"
   ]
  },
  {
   "cell_type": "code",
   "execution_count": 91,
   "metadata": {},
   "outputs": [
    {
     "name": "stdout",
     "output_type": "stream",
     "text": [
      "<class 'pandas.core.frame.DataFrame'>\n",
      "Int64Index: 849 entries, 0 to 848\n",
      "Data columns (total 18 columns):\n",
      " #   Column       Non-Null Count  Dtype  \n",
      "---  ------       --------------  -----  \n",
      " 0   title        849 non-null    object \n",
      " 1   rating       0 non-null      float64\n",
      " 2   year         849 non-null    int64  \n",
      " 3   duration     333 non-null    float64\n",
      " 4   votes        0 non-null      float64\n",
      " 5   certificate  54 non-null     object \n",
      " 6   image        849 non-null    object \n",
      " 7   synopsis     582 non-null    object \n",
      " 8   actor1       778 non-null    object \n",
      " 9   actor2       757 non-null    object \n",
      " 10  actor3       713 non-null    object \n",
      " 11  actor4       674 non-null    object \n",
      " 12  director1    778 non-null    object \n",
      " 13  director2    61 non-null     object \n",
      " 14  director3    8 non-null      object \n",
      " 15  genre1       806 non-null    object \n",
      " 16  genre2       293 non-null    object \n",
      " 17  genre3       121 non-null    object \n",
      "dtypes: float64(3), int64(1), object(14)\n",
      "memory usage: 126.0+ KB\n"
     ]
    }
   ],
   "source": [
    "df.info()"
   ]
  },
  {
   "cell_type": "code",
   "execution_count": 92,
   "metadata": {},
   "outputs": [],
   "source": [
    "df.drop(['votes', 'rating', 'image'], axis=1, inplace=True)"
   ]
  },
  {
   "cell_type": "code",
   "execution_count": 93,
   "metadata": {},
   "outputs": [],
   "source": [
    "df.to_csv(f'../data/{file_name}_transform.csv', index=False)"
   ]
  }
 ],
 "metadata": {
  "interpreter": {
   "hash": "e116df2f8c784b454efd66b392e835b837941f55545e56b8b3614d3730c15bd3"
  },
  "kernelspec": {
   "display_name": "Python 3.9.6 64-bit ('imdb-c-mmtxst-py3.9': poetry)",
   "language": "python",
   "name": "python3"
  },
  "language_info": {
   "codemirror_mode": {
    "name": "ipython",
    "version": 3
   },
   "file_extension": ".py",
   "mimetype": "text/x-python",
   "name": "python",
   "nbconvert_exporter": "python",
   "pygments_lexer": "ipython3",
   "version": "3.9.6"
  },
  "orig_nbformat": 4
 },
 "nbformat": 4,
 "nbformat_minor": 2
}
